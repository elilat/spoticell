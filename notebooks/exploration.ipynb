{
 "cells": [
  {
   "cell_type": "code",
   "execution_count": null,
   "metadata": {
    "vscode": {
     "languageId": "plaintext"
    }
   },
   "outputs": [],
   "source": [
    "# Import necessary libraries\n",
    "import os\n",
    "import sys\n",
    "import numpy as np\n",
    "import pandas as pd\n",
    "import scanpy as sc\n",
    "import scipy\n",
    "import matplotlib.pyplot as plt\n",
    "import seaborn as sns\n",
    "import requests\n",
    "import time\n",
    "import math\n",
    "import json\n",
    "from tqdm.notebook import tqdm\n",
    "import warnings\n",
    "warnings.filterwarnings('ignore')\n",
    "\n",
    "# Set plotting defaults\n",
    "sc.settings.set_figure_params(dpi=100, facecolor='white')\n",
    "plt.rcParams['figure.figsize'] = (10, 8)"
   ]
  },
  {
   "cell_type": "code",
   "execution_count": null,
   "metadata": {
    "vscode": {
     "languageId": "plaintext"
    }
   },
   "outputs": [],
   "source": [
    "# Function to download h5ad files from cellxgene\n",
    "def download_h5ad_file(url, output_path):\n",
    "    \"\"\"Download h5ad file from URL\"\"\"\n",
    "    if os.path.exists(output_path):\n",
    "        print(f\"File already exists at {output_path}, skipping download\")\n",
    "        return output_path\n",
    "    \n",
    "    print(f\"Downloading file from {url} to {output_path}\")\n",
    "    \n",
    "    # Stream download to handle large files\n",
    "    with requests.get(url, stream=True) as r:\n",
    "        r.raise_for_status()\n",
    "        total_size = int(r.headers.get('content-length', 0))\n",
    "        block_size = 8192  # 8 Kibibytes\n",
    "        \n",
    "        with open(output_path, 'wb') as f:\n",
    "            with tqdm(total=total_size, unit='iB', unit_scale=True) as t:\n",
    "                for chunk in r.iter_content(chunk_size=block_size):\n",
    "                    t.update(len(chunk))\n",
    "                    f.write(chunk)\n",
    "    \n",
    "    print(f\"Download complete: {output_path}\")\n",
    "    return output_path"
   ]
  },
  {
   "cell_type": "code",
   "execution_count": null,
   "metadata": {
    "vscode": {
     "languageId": "plaintext"
    }
   },
   "outputs": [],
   "source": [
    "# Create directories\n",
    "os.makedirs('../data/raw', exist_ok=True)\n",
    "os.makedirs('../data/processed', exist_ok=True)\n",
    "\n",
    "# Let's download a smaller dataset for exploration (PBMC dataset)\n",
    "url = \"https://datasets.cellxgene.cziscience.com/89619149-162f-4839-8e97-24735924417c.h5ad\"\n",
    "output_path = '../data/raw/pbmc_dataset.h5ad'\n",
    "\n",
    "# Download will be skipped if file exists\n",
    "download_h5ad_file(url, output_path)"
   ]
  },
  {
   "cell_type": "code",
   "execution_count": null,
   "metadata": {
    "vscode": {
     "languageId": "plaintext"
    }
   },
   "outputs": [],
   "source": [
    "# Load the dataset\n",
    "adata = sc.read_h5ad(output_path)\n",
    "\n",
    "# Show basic statistics\n",
    "print(f\"AnnData object with {adata.n_obs} cells and {adata.n_vars} genes\")\n",
    "print(f\"Observation data shape: {adata.obs.shape}\")\n",
    "print(f\"Variable data shape: {adata.var.shape}\")"
   ]
  },
  {
   "cell_type": "code",
   "execution_count": null,
   "metadata": {
    "vscode": {
     "languageId": "plaintext"
    }
   },
   "outputs": [],
   "source": [
    "# Explore the metadata columns\n",
    "print(\"Observation metadata columns:\")\n",
    "for col in adata.obs.columns:\n",
    "    n_unique = adata.obs[col].nunique()\n",
    "    print(f\"  - {col}: {n_unique} unique values\")\n",
    "    \n",
    "    # For columns with fewer than 20 unique values, show them\n",
    "    if n_unique < 20:\n",
    "        print(f\"    Values: {adata.obs[col].value_counts().to_dict()}\")\n",
    "    else:\n",
    "        print(f\"    Top 5 values: {adata.obs[col].value_counts().head(5).to_dict()}\")"
   ]
  },
  {
   "cell_type": "code",
   "execution_count": null,
   "metadata": {
    "vscode": {
     "languageId": "plaintext"
    }
   },
   "outputs": [],
   "source": [
    "# Explore cell types\n",
    "plt.figure(figsize=(14, 6))\n",
    "cell_counts = adata.obs['cell_type'].value_counts()\n",
    "sns.barplot(x=cell_counts.index, y=cell_counts.values)\n",
    "plt.xticks(rotation=90)\n",
    "plt.title('Cell Type Distribution')\n",
    "plt.ylabel('Number of cells')\n",
    "plt.tight_layout()\n",
    "plt.show()"
   ]
  },
  {
   "cell_type": "code",
   "execution_count": null,
   "metadata": {
    "vscode": {
     "languageId": "plaintext"
    }
   },
   "outputs": [],
   "source": [
    "# Filter dataset to include only normal cells with specific cell types\n",
    "selected_cell_types = [\n",
    "    'naive thymus-derived CD4-positive, alpha-beta T cell', 'classical monocyte', \n",
    "    'natural killer cell', 'naive B cell', 'CD4-positive helper T cell', \n",
    "    'CD8-positive, alpha-beta cytotoxic T cell', 'naive thymus-derived CD8-positive, alpha-beta T cell', \n",
    "    'central memory CD8-positive, alpha-beta T cell', 'non-classical monocyte', \n",
    "    'regulatory T cell'\n",
    "]\n",
    "\n",
    "# Filter cells\n",
    "adata_filtered = adata[adata.obs['cell_type'].isin(selected_cell_types)].copy()\n",
    "adata_filtered = adata_filtered[adata_filtered.obs['disease'].isin(['normal'])].copy()\n",
    "\n",
    "print(f\"Filtered dataset has {adata_filtered.n_obs} cells and {adata_filtered.n_vars} genes\")"
   ]
  },
  {
   "cell_type": "code",
   "execution_count": null,
   "metadata": {
    "vscode": {
     "languageId": "plaintext"
    }
   },
   "outputs": [],
   "source": [
    "# Basic preprocessing\n",
    "sc.pp.calculate_qc_metrics(adata_filtered, inplace=True)\n",
    "\n",
    "# Filter cells with too few genes\n",
    "sc.pp.filter_cells(adata_filtered, min_genes=200)\n",
    "\n",
    "# Filter genes expressed in too few cells\n",
    "sc.pp.filter_genes(adata_filtered, min_cells=3)\n",
    "\n",
    "# Normalize total counts per cell\n",
    "sc.pp.normalize_total(adata_filtered, target_sum=1e4)\n",
    "\n",
    "# Log transform the data\n",
    "sc.pp.log1p(adata_filtered)\n",
    "\n",
    "print(f\"Preprocessed dataset has {adata_filtered.n_obs} cells and {adata_filtered.n_vars} genes\")"
   ]
  },
  {
   "cell_type": "code",
   "execution_count": null,
   "metadata": {
    "vscode": {
     "languageId": "plaintext"
    }
   },
   "outputs": [],
   "source": [
    "# Create standardized cell type names\n",
    "cell_type_mapping = {\n",
    "    \"naive thymus-derived CD4-positive, alpha-beta T cell\": \"naive_CD4_T_cell\",\n",
    "    \"classical monocyte\": \"classical_monocyte\",\n",
    "    \"natural killer cell\": \"natural_killer_cell\",\n",
    "    \"naive B cell\": \"naive_B_cell\",\n",
    "    \"CD4-positive helper T cell\": \"CD4_helper_T_cell\",\n",
    "    \"CD8-positive, alpha-beta cytotoxic T cell\": \"CD8_cytotoxic_T_cell\",\n",
    "    \"naive thymus-derived CD8-positive, alpha-beta T cell\": \"naive_CD8_T_cell\",\n",
    "    \"central memory CD8-positive, alpha-beta T cell\": \"central_memory_CD8_T_cell\",\n",
    "    \"non-classical monocyte\": \"non_classical_monocyte\",\n",
    "    \"regulatory T cell\": \"regulatory_T_cell\"\n",
    "}\n",
    "\n",
    "# Apply mapping\n",
    "adata_filtered.obs['standardized_cell_type'] = adata_filtered.obs['cell_type'].map(cell_type_mapping)\n",
    "\n",
    "# Check results\n",
    "adata_filtered.obs['standardized_cell_type'].value_counts()"
   ]
  },
  {
   "cell_type": "code",
   "execution_count": null,
   "metadata": {
    "vscode": {
     "languageId": "plaintext"
    }
   },
   "outputs": [],
   "source": [
    "# UMAP visualization of cells\n",
    "sc.pp.highly_variable_genes(adata_filtered, n_top_genes=2000)\n",
    "sc.pp.pca(adata_filtered, n_comps=50, use_highly_variable=True)\n",
    "sc.pp.neighbors(adata_filtered, n_neighbors=10, n_pcs=40)\n",
    "sc.tl.umap(adata_filtered)\n",
    "\n",
    "# Plot UMAP colored by cell type\n",
    "plt.figure(figsize=(12, 10))\n",
    "sc.pl.umap(adata_filtered, color='standardized_cell_type', frameon=False, legend_loc='on data')\n",
    "plt.tight_layout()\n",
    "plt.show()"
   ]
  },
  {
   "cell_type": "code",
   "execution_count": null,
   "metadata": {
    "vscode": {
     "languageId": "plaintext"
    }
   },
   "outputs": [],
   "source": [
    "# Now let's prepare the data in the Spoticell format (spatial matrices)\n",
    "# First, create gene position mapping\n",
    "gene_names = adata_filtered.var_names.tolist()\n",
    "matrix_size = math.ceil(math.sqrt(len(gene_names)))\n",
    "print(f\"Matrix size will be {matrix_size}x{matrix_size} for {len(gene_names)} genes\")\n",
    "\n",
    "# Create mapping of genes to positions (alphabetical order)\n",
    "sorted_genes = sorted(gene_names)\n",
    "gene_to_idx = {gene: i for i, gene in enumerate(sorted_genes)}\n",
    "gene_positions = np.zeros((len(sorted_genes), 2), dtype=np.int32)\n",
    "\n",
    "for i, gene in enumerate(sorted_genes):\n",
    "    row = i // matrix_size\n",
    "    col = i % matrix_size\n",
    "    gene_positions[i] = [row, col]\n",
    "\n",
    "# Create mapping from original gene index to sorted position\n",
    "gene_idx_map = np.zeros(len(gene_names), dtype=np.int32)\n",
    "for i, gene in enumerate(gene_names):\n",
    "    gene_idx_map[i] = gene_to_idx.get(gene, 0)"
   ]
  },
  {
   "cell_type": "code",
   "execution_count": null,
   "metadata": {
    "vscode": {
     "languageId": "plaintext"
    }
   },
   "outputs": [],
   "source": [
    "# Visualize the mapping of a cell's expression to matrix format\n",
    "cell_idx = 0  # Get the first cell\n",
    "\n",
    "# Create matrix for this cell\n",
    "if scipy.sparse.issparse(adata_filtered.X):\n",
    "    cell_expr = adata_filtered.X[cell_idx].toarray().flatten()\n",
    "else:\n",
    "    cell_expr = adata_filtered.X[cell_idx]\n",
    "\n",
    "# Create matrix\n",
    "matrix = np.zeros((matrix_size, matrix_size), dtype=np.float32)\n",
    "\n",
    "# Only add non-zero genes\n",
    "non_zero_indices = np.nonzero(cell_expr)[0]\n",
    "for gene_idx in non_zero_indices:\n",
    "    # Map original gene index to sorted position\n",
    "    matrix_idx = gene_idx_map[gene_idx]\n",
    "    row, col = gene_positions[matrix_idx]\n",
    "    matrix[row, col] = cell_expr[gene_idx]\n",
    "\n",
    "# Plot the matrix\n",
    "plt.figure(figsize=(10, 10))\n",
    "plt.imshow(matrix, cmap='viridis')\n",
    "plt.colorbar(label='Gene Expression')\n",
    "plt.title(f'Gene Expression Matrix for Cell {cell_idx}\\nCell Type: {adata_filtered.obs[\"standardized_cell_type\"].iloc[cell_idx]}')\n",
    "plt.tight_layout()\n",
    "plt.show()\n",
    "\n",
    "print(f\"Cell has {len(non_zero_indices)} non-zero genes out of {len(gene_names)}\")\n",
    "print(f\"Matrix shape: {matrix.shape}\")\n",
    "print(f\"Sum of expression values: {np.sum(matrix):.4f}\")"
   ]
  },
  {
   "cell_type": "code",
   "execution_count": null,
   "metadata": {
    "vscode": {
     "languageId": "plaintext"
    }
   },
   "outputs": [],
   "source": [
    "# Let's visualize matrices for different cell types\n",
    "unique_cell_types = adata_filtered.obs['standardized_cell_type'].unique()\n",
    "\n",
    "fig, axes = plt.subplots(2, 5, figsize=(20, 8))\n",
    "axes = axes.flatten()\n",
    "\n",
    "for i, cell_type in enumerate(unique_cell_types[:10]):  # Show first 10 cell types\n",
    "    # Get a cell of this type\n",
    "    type_cells = adata_filtered[adata_filtered.obs['standardized_cell_type'] == cell_type]\n",
    "    if len(type_cells) == 0:\n",
    "        continue\n",
    "        \n",
    "    cell_idx = 0  # Get first cell of this type\n",
    "    \n",
    "    # Create matrix for this cell\n",
    "    if scipy.sparse.issparse(type_cells.X):\n",
    "        cell_expr = type_cells.X[cell_idx].toarray().flatten()\n",
    "    else:\n",
    "        cell_expr = type_cells.X[cell_idx]\n",
    "    \n",
    "    # Create matrix\n",
    "    matrix = np.zeros((matrix_size, matrix_size), dtype=np.float32)\n",
    "    \n",
    "    # Only add non-zero genes\n",
    "    non_zero_indices = np.nonzero(cell_expr)[0]\n",
    "    for gene_idx in non_zero_indices:\n",
    "        # Map original gene index to sorted position\n",
    "        matrix_idx = gene_idx_map[gene_idx]\n",
    "        row, col = gene_positions[matrix_idx]\n",
    "        matrix[row, col] = cell_expr[gene_idx]\n",
    "    \n",
    "    # Plot the matrix\n",
    "    im = axes[i].imshow(matrix, cmap='viridis')\n",
    "    axes[i].set_title(cell_type, fontsize=10)\n",
    "    axes[i].axis('off')\n",
    "\n",
    "plt.tight_layout()\n",
    "plt.suptitle('Expression Matrices by Cell Type', fontsize=16, y=1.02)\n",
    "plt.show()"
   ]
  },
  {
   "cell_type": "code",
   "execution_count": null,
   "metadata": {
    "vscode": {
     "languageId": "plaintext"
    }
   },
   "outputs": [],
   "source": [
    "# Define a simple pytorch model (without training) to verify the architecture\n",
    "import torch\n",
    "import torch.nn as nn\n",
    "\n",
    "class ConvBlock(nn.Module):\n",
    "    \"\"\"Convolutional block with batch normalization and residual connection.\"\"\"\n",
    "    \n",
    "    def __init__(self, in_channels, out_channels, kernel_size=3, stride=1, padding=1):\n",
    "        super(ConvBlock, self).__init__()\n",
    "        self.conv = nn.Conv2d(in_channels, out_channels, kernel_size, stride, padding)\n",
    "        self.bn = nn.BatchNorm2d(out_channels)\n",
    "        self.relu = nn.ReLU(inplace=True)\n",
    "        \n",
    "        # Residual connection\n",
    "        self.residual = nn.Conv2d(in_channels, out_channels, kernel_size=1, stride=stride) if in_channels != out_channels or stride != 1 else nn.Identity()\n",
    "    \n",
    "    def forward(self, x):\n",
    "        residual = self.residual(x)\n",
    "        x = self.conv(x)\n",
    "        x = self.bn(x)\n",
    "        x = self.relu(x + residual)\n",
    "        return x\n",
    "\n",
    "class SpoticellModelDemo(nn.Module):\n",
    "    \"\"\"Simple demo of Spoticell model architecture.\"\"\"\n",
    "    \n",
    "    def __init__(self, matrix_size, num_classes, cnn_channels=16):\n",
    "        super(SpoticellModelDemo, self).__init__()\n",
    "        \n",
    "        # CNN path\n",
    "        self.cnn_path = nn.Sequential(\n",
    "            ConvBlock(1, cnn_channels),\n",
    "            nn.MaxPool2d(2),\n",
    "            ConvBlock(cnn_channels, cnn_channels * 2),\n",
    "            nn.MaxPool2d(2),\n",
    "            ConvBlock(cnn_channels * 2, cnn_channels * 4),\n",
    "            nn.AdaptiveAvgPool2d((1, 1))\n",
    "        )\n",
    "        \n",
    "        # Classifier\n",
    "        self.classifier = nn.Linear(cnn_channels * 4, num_classes)\n",
    "    \n",
    "    def forward(self, x):\n",
    "        # CNN path\n",
    "        x = self.cnn_path(x)\n",
    "        x = x.view(x.size(0), -1)\n",
    "        \n",
    "        # Classification\n",
    "        x = self.classifier(x)\n",
    "        return x"
   ]
  },
  {
   "cell_type": "code",
   "execution_count": null,
   "metadata": {
    "vscode": {
     "languageId": "plaintext"
    }
   },
   "outputs": [],
   "source": [
    "# Test model with a batch of cells\n",
    "device = torch.device('cuda' if torch.cuda.is_available() else 'cpu')\n",
    "\n",
    "# Number of unique cell types\n",
    "num_classes = len(adata_filtered.obs['standardized_cell_type'].unique())\n",
    "\n",
    "# Create model\n",
    "model = SpoticellModelDemo(matrix_size, num_classes).to(device)\n",
    "\n",
    "# Create a batch of test data\n",
    "batch_size = 4\n",
    "test_matrices = []\n",
    "\n",
    "for i in range(batch_size):\n",
    "    # Get a random cell\n",
    "    cell_idx = np.random.randint(0, adata_filtered.n_obs)\n",
    "    \n",
    "    # Create matrix for this cell\n",
    "    if scipy.sparse.issparse(adata_filtered.X):\n",
    "        cell_expr = adata_filtered.X[cell_idx].toarray().flatten()\n",
    "    else:\n",
    "        cell_expr = adata_filtered.X[cell_idx]\n",
    "    \n",
    "    # Create matrix\n",
    "    matrix = np.zeros((matrix_size, matrix_size), dtype=np.float32)\n",
    "    \n",
    "    # Only add non-zero genes\n",
    "    non_zero_indices = np.nonzero(cell_expr)[0]\n",
    "    for gene_idx in non_zero_indices:\n",
    "        # Map original gene index to sorted position\n",
    "        matrix_idx = gene_idx_map[gene_idx]\n",
    "        row, col = gene_positions[matrix_idx]\n",
    "        matrix[row, col] = cell_expr[gene_idx]\n",
    "    \n",
    "    # Add channel dimension\n",
    "    matrix = np.expand_dims(matrix, axis=0)\n",
    "    test_matrices.append(matrix)\n",
    "\n",
    "# Convert to tensor\n",
    "test_batch = torch.tensor(np.array(test_matrices), dtype=torch.float32).to(device)\n",
    "\n",
    "# Forward pass\n",
    "with torch.no_grad():\n",
    "    outputs = model(test_batch)\n",
    "\n",
    "print(f\"Input batch shape: {test_batch.shape}\")\n",
    "print(f\"Output shape: {outputs.shape}\")\n",
    "print(\"Model successfully processes matrices!\")"
   ]
  },
  {
   "cell_type": "code",
   "execution_count": null,
   "metadata": {
    "vscode": {
     "languageId": "plaintext"
    }
   },
   "outputs": [],
   "source": [
    "# Save a small preprocessed dataset for testing\n",
    "os.makedirs('../data/processed/test_data', exist_ok=True)\n",
    "\n",
    "# Save expression matrix as sparse\n",
    "if not scipy.sparse.issparse(adata_filtered.X):\n",
    "    X_sparse = scipy.sparse.csr_matrix(adata_filtered.X)\n",
    "else:\n",
    "    X_sparse = adata_filtered.X\n",
    "\n",
    "scipy.sparse.save_npz('../data/processed/test_data/expression_data.npz', X_sparse)\n",
    "\n",
    "# Save gene positions and mapping\n",
    "np.save('../data/processed/test_data/gene_positions.npy', gene_positions)\n",
    "np.save('../data/processed/test_data/gene_idx_map.npy', gene_idx_map)\n",
    "np.save('../data/processed/test_data/sorted_genes.npy', np.array(sorted_genes))\n",
    "np.save('../data/processed/test_data/original_genes.npy', np.array(gene_names))\n",
    "\n",
    "# Create and save one-hot encoded cell type labels\n",
    "unique_cell_types = sorted(adata_filtered.obs['standardized_cell_type'].unique())\n",
    "cell_type_to_idx = {cell_type: idx for idx, cell_type in enumerate(unique_cell_types)}\n",
    "\n",
    "cell_labels = np.zeros((adata_filtered.n_obs, len(unique_cell_types)), dtype=np.float32)\n",
    "for i, cell_type in enumerate(adata_filtered.obs['standardized_cell_type']):\n",
    "    cell_labels[i, cell_type_to_idx[cell_type]] = 1.0\n",
    "\n",
    "np.save('../data/processed/test_data/cell_labels.npy', cell_labels)\n",
    "\n",
    "# Save metadata\n",
    "metadata = {\n",
    "    'n_cells': int(adata_filtered.n_obs),\n",
    "    'n_genes': int(adata_filtered.n_vars),\n",
    "    'matrix_size': int(matrix_size),\n",
    "    'cell_type_to_idx': {k: int(v) for k, v in cell_type_to_idx.items()},\n",
    "    'idx_to_cell_type': {str(idx): cell_type for idx, cell_type in enumerate(unique_cell_types)}\n",
    "}\n",
    "\n",
    "with open('../data/processed/test_data/metadata.json', 'w') as f:\n",
    "    json.dump(metadata, f, indent=4)\n",
    "\n",
    "print(\"Test dataset saved successfully!\")"
   ]
  },
  {
   "cell_type": "code",
   "execution_count": null,
   "metadata": {
    "vscode": {
     "languageId": "plaintext"
    }
   },
   "outputs": [],
   "source": [
    "# Conclude with summary statistics for dataset\n",
    "print(\"Dataset Summary\")\n",
    "print(\"=\" * 50)\n",
    "print(f\"Total cells: {adata_filtered.n_obs}\")\n",
    "print(f\"Total genes: {adata_filtered.n_vars}\")\n",
    "print(f\"Matrix size: {matrix_size}x{matrix_size}\")\n",
    "print(f\"Cell types: {len(unique_cell_types)}\")\n",
    "print(\"\\nCell type distribution:\")\n",
    "for cell_type, count in adata_filtered.obs['standardized_cell_type'].value_counts().items():\n",
    "    print(f\"  - {cell_type}: {count} cells ({100 * count / adata_filtered.n_obs:.2f}%)\")"
   ]
  }
 ],
 "metadata": {
  "language_info": {
   "name": "python"
  }
 },
 "nbformat": 4,
 "nbformat_minor": 2
}
